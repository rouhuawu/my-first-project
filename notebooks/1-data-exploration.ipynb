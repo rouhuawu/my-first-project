{
  "cells": [
    {
      "cell_type": "markdown",
      "metadata": {
        "id": "view-in-github",
        "colab_type": "text"
      },
      "source": [
        "<a href=\"https://colab.research.google.com/github/rouhuawu/my-first-project/blob/main/notebooks/1-data-exploration.ipynb\" target=\"_parent\"><img src=\"https://colab.research.google.com/assets/colab-badge.svg\" alt=\"Open In Colab\"/></a>"
      ]
    },
    {
      "cell_type": "code",
      "execution_count": null,
      "id": "f5f8c5fc",
      "metadata": {
        "id": "f5f8c5fc",
        "outputId": "ba66fe95-fef9-4b38-c6ef-62b45ef851aa"
      },
      "outputs": [
        {
          "name": "stdout",
          "output_type": "stream",
          "text": [
            "Hello from my notebook!\n"
          ]
        }
      ],
      "source": [
        "print(\"Hello from my notebook!\")"
      ]
    },
    {
      "cell_type": "code",
      "source": [
        "!git clone https://github.com/rouhuawu/my-first-project.git"
      ],
      "metadata": {
        "id": "IhwaXYnU3GtH",
        "outputId": "d476c724-0b9a-445f-94dc-4759bade6fdd",
        "colab": {
          "base_uri": "https://localhost:8080/"
        }
      },
      "id": "IhwaXYnU3GtH",
      "execution_count": 1,
      "outputs": [
        {
          "output_type": "stream",
          "name": "stdout",
          "text": [
            "Cloning into 'my-first-project'...\n",
            "remote: Enumerating objects: 23, done.\u001b[K\n",
            "remote: Counting objects: 100% (23/23), done.\u001b[K\n",
            "remote: Compressing objects: 100% (12/12), done.\u001b[K\n",
            "remote: Total 23 (delta 2), reused 20 (delta 2), pack-reused 0 (from 0)\u001b[K\n",
            "Receiving objects: 100% (23/23), 6.14 KiB | 3.07 MiB/s, done.\n",
            "Resolving deltas: 100% (2/2), done.\n"
          ]
        }
      ]
    },
    {
      "cell_type": "code",
      "source": [
        "!pip install numpy scipy"
      ],
      "metadata": {
        "id": "j0wgoANr3SfM",
        "outputId": "fa49665a-0622-4a13-eadf-b3ad4872de68",
        "colab": {
          "base_uri": "https://localhost:8080/"
        }
      },
      "id": "j0wgoANr3SfM",
      "execution_count": 2,
      "outputs": [
        {
          "output_type": "stream",
          "name": "stdout",
          "text": [
            "Requirement already satisfied: numpy in /usr/local/lib/python3.12/dist-packages (2.0.2)\n",
            "Requirement already satisfied: scipy in /usr/local/lib/python3.12/dist-packages (1.16.2)\n"
          ]
        }
      ]
    },
    {
      "cell_type": "code",
      "source": [
        "import sys\n",
        "\n",
        "# 將 'src' 資料夾的路徑添加到 Python 的搜尋路徑中\n",
        "sys.path.append('/content/my-first-project/src')\n",
        "\n",
        "# 載入函式\n",
        "from solver import create_random_instance, simulated_annealing\n",
        "\n",
        "print(\"✅ 成功從 my-first-project/src/solver.py 載入函式！\")"
      ],
      "metadata": {
        "id": "GbMolB4T3ZnP",
        "outputId": "ad9a9544-49a9-4d20-9590-d3a1eff13826",
        "colab": {
          "base_uri": "https://localhost:8080/"
        }
      },
      "id": "GbMolB4T3ZnP",
      "execution_count": 3,
      "outputs": [
        {
          "output_type": "stream",
          "name": "stdout",
          "text": [
            "✅ 成功從 my-first-project/src/solver.py 載入函式！\n"
          ]
        }
      ]
    },
    {
      "cell_type": "code",
      "source": [
        "print(\"🚀 開始訓練...\")\n",
        "jobs = create_random_instance(num_jobs=68, num_machines=20)\n",
        "best_perm, best_makespan = simulated_annealing(jobs, num_machines=10, steps=10000)\n",
        "\n",
        "print(\"--- 訓練完成 ---\")\n",
        "print(f\"最佳結果 (Best makespan): {best_makespan}\")"
      ],
      "metadata": {
        "id": "jzJS6wLQ3d_c",
        "outputId": "61f62a73-caf4-433c-a324-93966702eea6",
        "colab": {
          "base_uri": "https://localhost:8080/"
        }
      },
      "id": "jzJS6wLQ3d_c",
      "execution_count": 17,
      "outputs": [
        {
          "output_type": "stream",
          "name": "stdout",
          "text": [
            "🚀 開始訓練...\n",
            "--- 訓練完成 ---\n",
            "最佳結果 (Best makespan): 871\n"
          ]
        }
      ]
    },
    {
      "cell_type": "markdown",
      "source": [
        "#### 實驗筆記\n",
        "jobs = create_random_instance(num_jobs=68, num_machines=20)\n",
        "\n",
        "best_perm, best_makespan = simulated_annealing(jobs, num_machines=10, steps=10000)\n",
        "\n",
        "(Best makespan): 871\n"
      ],
      "metadata": {
        "id": "cIDR7Xiw6BUk"
      },
      "id": "cIDR7Xiw6BUk"
    },
    {
      "cell_type": "code",
      "source": [],
      "metadata": {
        "id": "XtDqiuCs6O4a"
      },
      "id": "XtDqiuCs6O4a",
      "execution_count": null,
      "outputs": []
    }
  ],
  "metadata": {
    "kernelspec": {
      "display_name": "Python 3",
      "language": "python",
      "name": "python3"
    },
    "language_info": {
      "codemirror_mode": {
        "name": "ipython",
        "version": 3
      },
      "file_extension": ".py",
      "mimetype": "text/x-python",
      "name": "python",
      "nbconvert_exporter": "python",
      "pygments_lexer": "ipython3",
      "version": "3.12.1"
    },
    "colab": {
      "provenance": [],
      "include_colab_link": true
    }
  },
  "nbformat": 4,
  "nbformat_minor": 5
}